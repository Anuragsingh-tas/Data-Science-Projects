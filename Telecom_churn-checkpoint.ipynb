{
 "cells": [
  {
   "cell_type": "markdown",
   "metadata": {},
   "source": [
    "## Telecom Churn Analysis"
   ]
  },
  {
   "cell_type": "code",
   "execution_count": 1,
   "metadata": {
    "_cell_guid": "b1076dfc-b9ad-4769-8c92-a6c4dae69d19",
    "_uuid": "8f2839f25d086af736a60e9eeb907d3b93b6e0e5"
   },
   "outputs": [],
   "source": [
    "#Importing Libraries\n",
    "import pandas as pd\n",
    "import numpy as np\n",
    "import matplotlib.pyplot as plt\n",
    "import matplotlib.gridspec as gridspec\n",
    "import itertools\n",
    "from sklearn.svm import SVC\n",
    "from sklearn.ensemble import RandomForestClassifier\n",
    "from sklearn.neighbors import KNeighborsClassifier\n",
    "from sklearn.preprocessing import StandardScaler\n",
    "from sklearn.linear_model import LogisticRegression \n",
    "from sklearn.ensemble import GradientBoostingClassifier \n",
    "\n",
    "from sklearn import preprocessing\n",
    "from sklearn.metrics import confusion_matrix\n",
    "from sklearn.metrics import classification_report\n",
    "from sklearn.metrics import roc_auc_score\n",
    "from sklearn.metrics import roc_curve\n",
    "from sklearn import metrics\n",
    "import seaborn as sns\n",
    "\n",
    "%matplotlib inline"
   ]
  },
  {
   "cell_type": "code",
   "execution_count": 3,
   "metadata": {
    "_uuid": "3c2fb17d52ee0dca55952b7830904e11d7a745d0"
   },
   "outputs": [
    {
     "data": {
      "text/html": [
       "<div>\n",
       "<style scoped>\n",
       "    .dataframe tbody tr th:only-of-type {\n",
       "        vertical-align: middle;\n",
       "    }\n",
       "\n",
       "    .dataframe tbody tr th {\n",
       "        vertical-align: top;\n",
       "    }\n",
       "\n",
       "    .dataframe thead th {\n",
       "        text-align: right;\n",
       "    }\n",
       "</style>\n",
       "<table border=\"1\" class=\"dataframe\">\n",
       "  <thead>\n",
       "    <tr style=\"text-align: right;\">\n",
       "      <th></th>\n",
       "      <th>state</th>\n",
       "      <th>account length</th>\n",
       "      <th>area code</th>\n",
       "      <th>phone number</th>\n",
       "      <th>international plan</th>\n",
       "      <th>voice mail plan</th>\n",
       "      <th>number vmail messages</th>\n",
       "      <th>total day calls</th>\n",
       "      <th>total day charge</th>\n",
       "      <th>total eve calls</th>\n",
       "      <th>total eve charge</th>\n",
       "      <th>total night calls</th>\n",
       "      <th>total night charge</th>\n",
       "      <th>total intl calls</th>\n",
       "      <th>total intl charge</th>\n",
       "      <th>customer service calls</th>\n",
       "      <th>churn</th>\n",
       "    </tr>\n",
       "  </thead>\n",
       "  <tbody>\n",
       "    <tr>\n",
       "      <th>0</th>\n",
       "      <td>KS</td>\n",
       "      <td>128</td>\n",
       "      <td>415</td>\n",
       "      <td>382-4657</td>\n",
       "      <td>no</td>\n",
       "      <td>yes</td>\n",
       "      <td>25.0</td>\n",
       "      <td>110.0</td>\n",
       "      <td>45.07</td>\n",
       "      <td>99.0</td>\n",
       "      <td>16.78</td>\n",
       "      <td>91.0</td>\n",
       "      <td>11.01</td>\n",
       "      <td>3.0</td>\n",
       "      <td>2.70</td>\n",
       "      <td>1.0</td>\n",
       "      <td>False</td>\n",
       "    </tr>\n",
       "    <tr>\n",
       "      <th>1</th>\n",
       "      <td>OH</td>\n",
       "      <td>107</td>\n",
       "      <td>415</td>\n",
       "      <td>371-7191</td>\n",
       "      <td>no</td>\n",
       "      <td>yes</td>\n",
       "      <td>26.0</td>\n",
       "      <td>123.0</td>\n",
       "      <td>27.47</td>\n",
       "      <td>103.0</td>\n",
       "      <td>16.62</td>\n",
       "      <td>103.0</td>\n",
       "      <td>11.45</td>\n",
       "      <td>3.0</td>\n",
       "      <td>3.70</td>\n",
       "      <td>1.0</td>\n",
       "      <td>False</td>\n",
       "    </tr>\n",
       "    <tr>\n",
       "      <th>2</th>\n",
       "      <td>NJ</td>\n",
       "      <td>137</td>\n",
       "      <td>415</td>\n",
       "      <td>358-1921</td>\n",
       "      <td>no</td>\n",
       "      <td>no</td>\n",
       "      <td>0.0</td>\n",
       "      <td>114.0</td>\n",
       "      <td>41.38</td>\n",
       "      <td>110.0</td>\n",
       "      <td>10.30</td>\n",
       "      <td>104.0</td>\n",
       "      <td>7.32</td>\n",
       "      <td>5.0</td>\n",
       "      <td>3.29</td>\n",
       "      <td>0.0</td>\n",
       "      <td>False</td>\n",
       "    </tr>\n",
       "    <tr>\n",
       "      <th>3</th>\n",
       "      <td>OH</td>\n",
       "      <td>84</td>\n",
       "      <td>408</td>\n",
       "      <td>375-9999</td>\n",
       "      <td>yes</td>\n",
       "      <td>no</td>\n",
       "      <td>0.0</td>\n",
       "      <td>71.0</td>\n",
       "      <td>50.90</td>\n",
       "      <td>88.0</td>\n",
       "      <td>5.26</td>\n",
       "      <td>89.0</td>\n",
       "      <td>8.86</td>\n",
       "      <td>7.0</td>\n",
       "      <td>1.78</td>\n",
       "      <td>2.0</td>\n",
       "      <td>False</td>\n",
       "    </tr>\n",
       "    <tr>\n",
       "      <th>4</th>\n",
       "      <td>OK</td>\n",
       "      <td>75</td>\n",
       "      <td>415</td>\n",
       "      <td>330-6626</td>\n",
       "      <td>yes</td>\n",
       "      <td>no</td>\n",
       "      <td>0.0</td>\n",
       "      <td>113.0</td>\n",
       "      <td>28.34</td>\n",
       "      <td>122.0</td>\n",
       "      <td>12.61</td>\n",
       "      <td>121.0</td>\n",
       "      <td>8.41</td>\n",
       "      <td>3.0</td>\n",
       "      <td>2.73</td>\n",
       "      <td>3.0</td>\n",
       "      <td>False</td>\n",
       "    </tr>\n",
       "  </tbody>\n",
       "</table>\n",
       "</div>"
      ],
      "text/plain": [
       "  state  account length  area code phone number international plan  \\\n",
       "0    KS             128        415     382-4657                 no   \n",
       "1    OH             107        415     371-7191                 no   \n",
       "2    NJ             137        415     358-1921                 no   \n",
       "3    OH              84        408     375-9999                yes   \n",
       "4    OK              75        415     330-6626                yes   \n",
       "\n",
       "  voice mail plan  number vmail messages  total day calls  total day charge  \\\n",
       "0             yes                   25.0            110.0             45.07   \n",
       "1             yes                   26.0            123.0             27.47   \n",
       "2              no                    0.0            114.0             41.38   \n",
       "3              no                    0.0             71.0             50.90   \n",
       "4              no                    0.0            113.0             28.34   \n",
       "\n",
       "   total eve calls  total eve charge  total night calls  total night charge  \\\n",
       "0             99.0             16.78               91.0               11.01   \n",
       "1            103.0             16.62              103.0               11.45   \n",
       "2            110.0             10.30              104.0                7.32   \n",
       "3             88.0              5.26               89.0                8.86   \n",
       "4            122.0             12.61              121.0                8.41   \n",
       "\n",
       "   total intl calls  total intl charge  customer service calls  churn  \n",
       "0               3.0               2.70                     1.0  False  \n",
       "1               3.0               3.70                     1.0  False  \n",
       "2               5.0               3.29                     0.0  False  \n",
       "3               7.0               1.78                     2.0  False  \n",
       "4               3.0               2.73                     3.0  False  "
      ]
     },
     "execution_count": 3,
     "metadata": {},
     "output_type": "execute_result"
    }
   ],
   "source": [
    "df = pd.read_csv('C:\\\\Users\\\\Anurag\\\\Pictures\\\\Data Science Project Collection\\\\Telecom churn term 1\\\\telecom churn.csv')\n",
    "#print first 10 rows\n",
    "df.head()"
   ]
  },
  {
   "cell_type": "code",
   "execution_count": 4,
   "metadata": {
    "scrolled": false
   },
   "outputs": [
    {
     "name": "stdout",
     "output_type": "stream",
     "text": [
      "       account length    area code  number vmail messages  total day calls  \\\n",
      "count     3333.000000  3333.000000            3332.000000      3331.000000   \n",
      "mean       101.064806   437.182418               8.101441       100.423296   \n",
      "std         39.822106    42.371290              13.689700        20.068540   \n",
      "min          1.000000   408.000000               0.000000         0.000000   \n",
      "25%         74.000000   408.000000               0.000000        87.000000   \n",
      "50%        101.000000   415.000000               0.000000       101.000000   \n",
      "75%        127.000000   510.000000              20.000000       114.000000   \n",
      "max        243.000000   510.000000              51.000000       165.000000   \n",
      "\n",
      "       total day charge  total eve calls  total eve charge  total night calls  \\\n",
      "count       3330.000000      3331.000000       3329.000000        3330.000000   \n",
      "mean          30.561532       100.114380         17.084875         100.101502   \n",
      "std            9.260180        19.927643          4.312225          19.574612   \n",
      "min            0.000000         0.000000          0.000000          33.000000   \n",
      "25%           24.430000        87.000000         14.160000          87.000000   \n",
      "50%           30.500000       100.000000         17.110000         100.000000   \n",
      "75%           36.785000       114.000000         20.000000         113.000000   \n",
      "max           59.640000       170.000000         30.910000         175.000000   \n",
      "\n",
      "       total night charge  total intl calls  total intl charge  \\\n",
      "count         3332.000000       3331.000000        3330.000000   \n",
      "mean             9.039874          4.479436           2.764598   \n",
      "std              2.275994          2.461679           0.753954   \n",
      "min              1.040000          0.000000           0.000000   \n",
      "25%              7.520000          3.000000           2.300000   \n",
      "50%              9.050000          4.000000           2.780000   \n",
      "75%             10.590000          6.000000           3.270000   \n",
      "max             17.770000         20.000000           5.400000   \n",
      "\n",
      "       customer service calls  \n",
      "count             3332.000000  \n",
      "mean                 1.562425  \n",
      "std                  1.315453  \n",
      "min                  0.000000  \n",
      "25%                  1.000000  \n",
      "50%                  1.000000  \n",
      "75%                  2.000000  \n",
      "max                  9.000000  \n"
     ]
    }
   ],
   "source": [
    "print(df.describe())"
   ]
  },
  {
   "cell_type": "code",
   "execution_count": 5,
   "metadata": {},
   "outputs": [
    {
     "name": "stdout",
     "output_type": "stream",
     "text": [
      "<class 'pandas.core.frame.DataFrame'>\n",
      "RangeIndex: 3333 entries, 0 to 3332\n",
      "Data columns (total 17 columns):\n",
      "state                     3333 non-null object\n",
      "account length            3333 non-null int64\n",
      "area code                 3333 non-null int64\n",
      "phone number              3333 non-null object\n",
      "international plan        3333 non-null object\n",
      "voice mail plan           3333 non-null object\n",
      "number vmail messages     3332 non-null float64\n",
      "total day calls           3331 non-null float64\n",
      "total day charge          3330 non-null float64\n",
      "total eve calls           3331 non-null float64\n",
      "total eve charge          3329 non-null float64\n",
      "total night calls         3330 non-null float64\n",
      "total night charge        3332 non-null float64\n",
      "total intl calls          3331 non-null float64\n",
      "total intl charge         3330 non-null float64\n",
      "customer service calls    3332 non-null float64\n",
      "churn                     3333 non-null bool\n",
      "dtypes: bool(1), float64(10), int64(2), object(4)\n",
      "memory usage: 420.0+ KB\n",
      "None\n"
     ]
    }
   ],
   "source": [
    "print(df.info())"
   ]
  },
  {
   "cell_type": "code",
   "execution_count": 6,
   "metadata": {},
   "outputs": [],
   "source": [
    "df=df.fillna(df.mean())"
   ]
  },
  {
   "cell_type": "code",
   "execution_count": 7,
   "metadata": {},
   "outputs": [
    {
     "name": "stdout",
     "output_type": "stream",
     "text": [
      "       account length    area code  number vmail messages  total day calls  \\\n",
      "count     3333.000000  3333.000000            3333.000000      3333.000000   \n",
      "mean       101.064806   437.182418               8.101441       100.423296   \n",
      "std         39.822106    42.371290              13.687646        20.062516   \n",
      "min          1.000000   408.000000               0.000000         0.000000   \n",
      "25%         74.000000   408.000000               0.000000        87.000000   \n",
      "50%        101.000000   415.000000               0.000000       101.000000   \n",
      "75%        127.000000   510.000000              20.000000       114.000000   \n",
      "max        243.000000   510.000000              51.000000       165.000000   \n",
      "\n",
      "       total day charge  total eve calls  total eve charge  total night calls  \\\n",
      "count       3333.000000      3333.000000       3333.000000        3333.000000   \n",
      "mean          30.561532       100.114380         17.084875         100.101502   \n",
      "std            9.256010        19.921661          4.309636          19.565798   \n",
      "min            0.000000         0.000000          0.000000          33.000000   \n",
      "25%           24.430000        87.000000         14.160000          87.000000   \n",
      "50%           30.500000       100.000000         17.100000         100.000000   \n",
      "75%           36.770000       114.000000         20.000000         113.000000   \n",
      "max           59.640000       170.000000         30.910000         175.000000   \n",
      "\n",
      "       total night charge  total intl calls  total intl charge  \\\n",
      "count         3333.000000       3333.000000        3333.000000   \n",
      "mean             9.039874          4.479436           2.764598   \n",
      "std              2.275652          2.460940           0.753615   \n",
      "min              1.040000          0.000000           0.000000   \n",
      "25%              7.520000          3.000000           2.300000   \n",
      "50%              9.050000          4.000000           2.780000   \n",
      "75%             10.590000          6.000000           3.270000   \n",
      "max             17.770000         20.000000           5.400000   \n",
      "\n",
      "       customer service calls  \n",
      "count             3333.000000  \n",
      "mean                 1.562425  \n",
      "std                  1.315255  \n",
      "min                  0.000000  \n",
      "25%                  1.000000  \n",
      "50%                  1.000000  \n",
      "75%                  2.000000  \n",
      "max                  9.000000  \n"
     ]
    }
   ],
   "source": [
    "print(df.describe())"
   ]
  },
  {
   "cell_type": "code",
   "execution_count": 8,
   "metadata": {
    "_uuid": "86af6c744324a4fcafe857af1ca34841bbba6a17"
   },
   "outputs": [
    {
     "data": {
      "text/html": [
       "<div>\n",
       "<style scoped>\n",
       "    .dataframe tbody tr th:only-of-type {\n",
       "        vertical-align: middle;\n",
       "    }\n",
       "\n",
       "    .dataframe tbody tr th {\n",
       "        vertical-align: top;\n",
       "    }\n",
       "\n",
       "    .dataframe thead th {\n",
       "        text-align: right;\n",
       "    }\n",
       "</style>\n",
       "<table border=\"1\" class=\"dataframe\">\n",
       "  <thead>\n",
       "    <tr style=\"text-align: right;\">\n",
       "      <th></th>\n",
       "      <th>state</th>\n",
       "      <th>phone number</th>\n",
       "      <th>international plan</th>\n",
       "      <th>voice mail plan</th>\n",
       "    </tr>\n",
       "  </thead>\n",
       "  <tbody>\n",
       "    <tr>\n",
       "      <th>count</th>\n",
       "      <td>3333</td>\n",
       "      <td>3333</td>\n",
       "      <td>3333</td>\n",
       "      <td>3333</td>\n",
       "    </tr>\n",
       "    <tr>\n",
       "      <th>unique</th>\n",
       "      <td>51</td>\n",
       "      <td>3333</td>\n",
       "      <td>2</td>\n",
       "      <td>2</td>\n",
       "    </tr>\n",
       "    <tr>\n",
       "      <th>top</th>\n",
       "      <td>WV</td>\n",
       "      <td>346-2530</td>\n",
       "      <td>no</td>\n",
       "      <td>no</td>\n",
       "    </tr>\n",
       "    <tr>\n",
       "      <th>freq</th>\n",
       "      <td>106</td>\n",
       "      <td>1</td>\n",
       "      <td>3010</td>\n",
       "      <td>2411</td>\n",
       "    </tr>\n",
       "  </tbody>\n",
       "</table>\n",
       "</div>"
      ],
      "text/plain": [
       "       state phone number international plan voice mail plan\n",
       "count   3333         3333               3333            3333\n",
       "unique    51         3333                  2               2\n",
       "top       WV     346-2530                 no              no\n",
       "freq     106            1               3010            2411"
      ]
     },
     "execution_count": 8,
     "metadata": {},
     "output_type": "execute_result"
    }
   ],
   "source": [
    "df.describe(include=['O'])"
   ]
  },
  {
   "cell_type": "code",
   "execution_count": 9,
   "metadata": {
    "_uuid": "7281242299b165946b30aa6da78c8e82bb0a6617"
   },
   "outputs": [],
   "source": [
    "label_encoder = preprocessing.LabelEncoder()\n",
    "\n",
    "df['state'] = label_encoder.fit_transform(df['state'])\n",
    "df['international plan'] = label_encoder.fit_transform(df['international plan'])\n",
    "df['voice mail plan'] = label_encoder.fit_transform(df['voice mail plan'])\n",
    "df['churn'] = label_encoder.fit_transform(df['churn'])\n"
   ]
  },
  {
   "cell_type": "code",
   "execution_count": 10,
   "metadata": {},
   "outputs": [
    {
     "data": {
      "text/plain": [
       "0    0\n",
       "1    0\n",
       "2    0\n",
       "3    0\n",
       "4    0\n",
       "Name: churn, dtype: int64"
      ]
     },
     "execution_count": 10,
     "metadata": {},
     "output_type": "execute_result"
    }
   ],
   "source": [
    "df.churn.head()"
   ]
  },
  {
   "cell_type": "code",
   "execution_count": 11,
   "metadata": {},
   "outputs": [],
   "source": [
    "df = df.drop(\"phone number\", axis=1)"
   ]
  },
  {
   "cell_type": "code",
   "execution_count": 12,
   "metadata": {},
   "outputs": [
    {
     "data": {
      "text/plain": [
       "Index(['state', 'account length', 'area code', 'international plan',\n",
       "       'voice mail plan', 'number vmail messages', 'total day calls',\n",
       "       'total day charge', 'total eve calls', 'total eve charge',\n",
       "       'total night calls', 'total night charge', 'total intl calls',\n",
       "       'total intl charge', 'customer service calls', 'churn'],\n",
       "      dtype='object')"
      ]
     },
     "execution_count": 12,
     "metadata": {},
     "output_type": "execute_result"
    }
   ],
   "source": [
    "df.columns"
   ]
  },
  {
   "cell_type": "code",
   "execution_count": 13,
   "metadata": {
    "_uuid": "03b679020345d0fa05e2ccfd4eddfff3b8e53fbd"
   },
   "outputs": [
    {
     "name": "stdout",
     "output_type": "stream",
     "text": [
      "num of Existing cust: 2850\n",
      "num of pepole who churn: 483\n"
     ]
    }
   ],
   "source": [
    "exist_cust = df[(df['churn'] ==0) ].count()[1]\n",
    "churn = df[(df['churn'] ==1) ].count()[1]\n",
    "print (\"num of Existing cust: \"+ str(exist_cust))\n",
    "print (\"num of pepole who churn: \"+ str(churn))"
   ]
  },
  {
   "cell_type": "code",
   "execution_count": 14,
   "metadata": {
    "_uuid": "8e60281532eb7450d5a9d4a36daa2510a2f3e12e",
    "scrolled": true
   },
   "outputs": [
    {
     "data": {
      "text/plain": [
       "<matplotlib.axes._subplots.AxesSubplot at 0x13584baecf8>"
      ]
     },
     "execution_count": 14,
     "metadata": {},
     "output_type": "execute_result"
    },
    {
     "data": {
      "image/png": "[encoded data removed]",
      "text/plain": [
       "<Figure size 360x288 with 2 Axes>"
      ]
     },
     "metadata": {
      "needs_background": "light"
     },
     "output_type": "display_data"
    }
   ],
   "source": [
    "# calculate the correlation matrix\n",
    "corr = df.corr()\n",
    "\n",
    "# plot the heatmap\n",
    "fig = plt.figure(figsize=(5,4))\n",
    "sns.heatmap(corr, \n",
    "        xticklabels=corr.columns,\n",
    "        yticklabels=corr.columns,\n",
    "            linewidths=.75)"
   ]
  },
  {
   "cell_type": "code",
   "execution_count": 15,
   "metadata": {},
   "outputs": [
    {
     "data": {
      "image/png": "[encoded data removed]",
      "text/plain": [
       "<Figure size 1080x360 with 1 Axes>"
      ]
     },
     "metadata": {
      "needs_background": "light"
     },
     "output_type": "display_data"
    }
   ],
   "source": [
    "plt.figure(figsize=(15,5))\n",
    "sns.set_style(\"whitegrid\")\n",
    "(df.churn.value_counts()/len(df)).plot(title=\"Distribution of churn\",kind='bar',color='red')\n",
    "plt.show()"
   ]
  },
  {
   "cell_type": "code",
   "execution_count": 16,
   "metadata": {
    "_uuid": "dd812bb7f721d3507a1c946da132483f04fd1b64"
   },
   "outputs": [],
   "source": [
    "#we will normalize our data so the prediction on all features will be at the same scale\n",
    "X = df.iloc[:,0:15].values\n",
    "y = df.iloc[:,15].values\n",
    "#normalize the data\n",
    "from sklearn.preprocessing import StandardScaler\n",
    "X_std = StandardScaler().fit_transform(X)\n",
    "dfNorm = pd.DataFrame(X_std, index=df.index, columns=df.columns[0:15])\n",
    "# # add non-feature target column to dataframe\n",
    "dfNorm['churn'] = df['churn']\n",
    "dfNorm.head(10)\n",
    "\n",
    "X = dfNorm.iloc[:,0:15].values\n",
    "y = dfNorm.iloc[:,15].values"
   ]
  },
  {
   "cell_type": "code",
   "execution_count": 17,
   "metadata": {
    "_uuid": "34d584e62866482b224fb7c1736eca1b32ff5ca8"
   },
   "outputs": [
    {
     "data": {
      "text/plain": [
       "((2333, 15), (2333,), (1000, 15), (1000,))"
      ]
     },
     "execution_count": 17,
     "metadata": {},
     "output_type": "execute_result"
    }
   ],
   "source": [
    "# after we learn and preprocessed our data, we need to split it into train and test.\n",
    "\n",
    "from sklearn.model_selection import train_test_split\n",
    "X_train, X_test, y_train, y_test = train_test_split(\n",
    "X, y, test_size=0.3, random_state=0)\n",
    "\n",
    "X_train.shape, y_train.shape, X_test.shape , y_test.shape"
   ]
  },
  {
   "cell_type": "code",
   "execution_count": 18,
   "metadata": {},
   "outputs": [
    {
     "data": {
      "text/plain": [
       "array([0, 0, 0, ..., 1, 0, 1], dtype=int64)"
      ]
     },
     "execution_count": 18,
     "metadata": {},
     "output_type": "execute_result"
    }
   ],
   "source": [
    "y_train"
   ]
  },
  {
   "cell_type": "markdown",
   "metadata": {
    "_uuid": "07e639f75f8f5a29cc399ffd1aa4b3ba49545ea1"
   },
   "source": [
    "### helping functions"
   ]
  },
  {
   "cell_type": "code",
   "execution_count": 19,
   "metadata": {
    "_uuid": "03f1eb2e6ee199d897c1a9a839ec9511689bb2e0"
   },
   "outputs": [],
   "source": [
    "results_test = {}\n",
    "results_train = {}\n",
    "def prdict_date(algo_name,X_train,y_train,X_test,y_test,verbose=0):\n",
    "    algo_name.fit(X_train, y_train)\n",
    "    Y_pred = algo_name.predict(X_test)\n",
    "    acc_train = round(algo_name.score(X_train, y_train) * 100, 2)\n",
    "    acc_val = round(algo_name.score(X_test, y_test) * 100, 2)\n",
    "    results_test[str(algo_name)[0:str(algo_name).find('(')]] = acc_val\n",
    "    results_train[str(algo_name)[0:str(algo_name).find('(')]] = acc_train\n",
    "    if verbose ==0:\n",
    "        print(\"accuracy train: \" + str(acc_train))\n",
    "        print(\"accuracy test: \"+ str(acc_val))\n",
    "    else:\n",
    "        return Y_pred"
   ]
  },
  {
   "cell_type": "code",
   "execution_count": 20,
   "metadata": {
    "_uuid": "ee08ca3e3916d1c9a59b9fcdbf05a8737c142205"
   },
   "outputs": [],
   "source": [
    "### helping function\n",
    "\n",
    "def conf(algo_name,X_test, y_test):\n",
    "    y_pred = algo_name.predict(X_test)\n",
    "    forest_cm = metrics.confusion_matrix(y_pred, y_test, [1,0])\n",
    "    sns.heatmap(forest_cm, annot=True, fmt='.2f',xticklabels = [\"1\", \"0\"] , yticklabels = [\"1\", \"0\"] )\n",
    "    plt.ylabel('True class')\n",
    "    plt.xlabel('Predicted class')\n",
    "    plt.title(str(algo_name)[0:str(algo_name).find('(')])"
   ]
  },
  {
   "cell_type": "code",
   "execution_count": 21,
   "metadata": {
    "_uuid": "ea8d071453633723f4cbb016b5da2dd9a9d3ab71"
   },
   "outputs": [],
   "source": [
    "from imblearn.over_sampling import SMOTE\n",
    "sm = SMOTE(random_state=0, ratio = 1.0)\n",
    "X_train_res, y_train_res = sm.fit_sample(X_train, y_train)"
   ]
  },
  {
   "cell_type": "code",
   "execution_count": 22,
   "metadata": {
    "_uuid": "48a45c040269ae1a298fcf40d0a8ffd566f9fa83"
   },
   "outputs": [
    {
     "data": {
      "text/plain": [
       "Counter({0: 1988, 1: 345})"
      ]
     },
     "execution_count": 22,
     "metadata": {},
     "output_type": "execute_result"
    }
   ],
   "source": [
    "#data labels before SMOTE:\n",
    "import collections\n",
    "collections.Counter(y_train)"
   ]
  },
  {
   "cell_type": "code",
   "execution_count": 23,
   "metadata": {
    "_uuid": "ad1c1c6ffa7c8c1f0d6c4cb0787f3a931b344fb0"
   },
   "outputs": [
    {
     "data": {
      "text/plain": [
       "Counter({0: 1988, 1: 1988})"
      ]
     },
     "execution_count": 23,
     "metadata": {},
     "output_type": "execute_result"
    }
   ],
   "source": [
    "#after SMOTE:\n",
    "import collections\n",
    "collections.Counter(y_train_res)"
   ]
  },
  {
   "cell_type": "markdown",
   "metadata": {
    "_uuid": "718dfe95d5ffe5a8b8a9e3c9a0e99ee3ccfad629"
   },
   "source": [
    "### Random_Forest_Classifier"
   ]
  },
  {
   "cell_type": "code",
   "execution_count": 24,
   "metadata": {
    "_uuid": "6df0ff60060a825dd9ffd9dd09314b6c36eb3a58"
   },
   "outputs": [
    {
     "name": "stdout",
     "output_type": "stream",
     "text": [
      "accuracy train: 100.0\n",
      "accuracy test: 92.5\n",
      "              precision    recall  f1-score   support\n",
      "\n",
      "           0       0.97      0.95      0.96       862\n",
      "           1       0.70      0.80      0.75       138\n",
      "\n",
      "   micro avg       0.93      0.93      0.93      1000\n",
      "   macro avg       0.83      0.87      0.85      1000\n",
      "weighted avg       0.93      0.93      0.93      1000\n",
      "\n"
     ]
    },
    {
     "data": {
      "image/png": "[encoded data removed]",
      "text/plain": [
       "<Figure size 432x288 with 2 Axes>"
      ]
     },
     "metadata": {},
     "output_type": "display_data"
    }
   ],
   "source": [
    "random_forest = RandomForestClassifier(n_estimators=75 , random_state=0  )\n",
    "prdict_date(random_forest,X_train_res,y_train_res,X_test,y_test)\n",
    "print(classification_report(y_test, random_forest.predict(X_test)))\n",
    "conf(random_forest,X_test, y_test)\n"
   ]
  },
  {
   "cell_type": "markdown",
   "metadata": {
    "_uuid": "1fd97b6a0b2caaba6319e44a299676f68a62f0a3"
   },
   "source": [
    "### Gradient Boosting"
   ]
  },
  {
   "cell_type": "code",
   "execution_count": 25,
   "metadata": {
    "_uuid": "4aa9434dcb5d574e5cecbed7dd3e3548bdc4246a"
   },
   "outputs": [
    {
     "name": "stdout",
     "output_type": "stream",
     "text": [
      "accuracy train: 100.0\n",
      "accuracy test: 95.1\n",
      "              precision    recall  f1-score   support\n",
      "\n",
      "           0       0.97      0.97      0.97       862\n",
      "           1       0.83      0.81      0.82       138\n",
      "\n",
      "   micro avg       0.95      0.95      0.95      1000\n",
      "   macro avg       0.90      0.89      0.90      1000\n",
      "weighted avg       0.95      0.95      0.95      1000\n",
      "\n"
     ]
    },
    {
     "data": {
      "image/png": "[encoded data removed]",
      "text/plain": [
       "<Figure size 432x288 with 2 Axes>"
      ]
     },
     "metadata": {},
     "output_type": "display_data"
    }
   ],
   "source": [
    "# Train: Gradient Boosting\n",
    "gbc = GradientBoostingClassifier(loss='deviance', learning_rate=0.2, n_estimators=200 , max_depth=6)\n",
    "prdict_date(gbc,X_train_res,y_train_res,X_test,y_test)\n",
    "\n",
    "print(classification_report(y_test, gbc.predict(X_test)))\n",
    "conf(gbc,X_test, y_test)"
   ]
  },
  {
   "cell_type": "markdown",
   "metadata": {
    "_uuid": "17f9de82c5fd2b48d5f56924e7f014cfd490d9c4"
   },
   "source": [
    "### SVM"
   ]
  },
  {
   "cell_type": "code",
   "execution_count": 26,
   "metadata": {
    "_uuid": "91fa60622f3a76a5097f99d3fc18f783426bb7be"
   },
   "outputs": [
    {
     "name": "stdout",
     "output_type": "stream",
     "text": [
      "accuracy train: 78.09\n",
      "accuracy test: 74.6\n"
     ]
    }
   ],
   "source": [
    "###### linear svm:\n",
    "#  SVM\n",
    "svm = SVC(kernel='linear', probability=True)\n",
    "prdict_date(svm,X_train_res,y_train_res,X_test,y_test)"
   ]
  },
  {
   "cell_type": "code",
   "execution_count": 27,
   "metadata": {
    "_uuid": "f6a38f0284f7a594dfb4c6a8ac067b1df21f50c5"
   },
   "outputs": [
    {
     "name": "stderr",
     "output_type": "stream",
     "text": [
      "C:\\Users\\Anurag\\Anaconda3\\lib\\site-packages\\sklearn\\svm\\base.py:196: FutureWarning: The default value of gamma will change from 'auto' to 'scale' in version 0.22 to account better for unscaled features. Set gamma explicitly to 'auto' or 'scale' to avoid this warning.\n",
      "  \"avoid this warning.\", FutureWarning)\n"
     ]
    },
    {
     "name": "stdout",
     "output_type": "stream",
     "text": [
      "accuracy train: 93.91\n",
      "accuracy test: 88.2\n"
     ]
    }
   ],
   "source": [
    "###### linear rbf:\n",
    "svm = SVC(kernel='rbf', probability=True)\n",
    "prdict_date(svm,X_train_res,y_train_res,X_test,y_test)"
   ]
  },
  {
   "cell_type": "code",
   "execution_count": 28,
   "metadata": {
    "_uuid": "f42e69291641b3696199323553a10ab04d57edfb"
   },
   "outputs": [
    {
     "name": "stderr",
     "output_type": "stream",
     "text": [
      "C:\\Users\\Anurag\\Anaconda3\\lib\\site-packages\\sklearn\\svm\\base.py:196: FutureWarning: The default value of gamma will change from 'auto' to 'scale' in version 0.22 to account better for unscaled features. Set gamma explicitly to 'auto' or 'scale' to avoid this warning.\n",
      "  \"avoid this warning.\", FutureWarning)\n"
     ]
    },
    {
     "name": "stdout",
     "output_type": "stream",
     "text": [
      "accuracy train: 92.61\n",
      "accuracy test: 87.6\n"
     ]
    }
   ],
   "source": [
    "######  poly svm :\n",
    "#  SVM\n",
    "svm = SVC(kernel='poly', probability=True)\n",
    "prdict_date(svm,X_train_res,y_train_res,X_test,y_test)"
   ]
  },
  {
   "cell_type": "code",
   "execution_count": 29,
   "metadata": {
    "_uuid": "ad79967b52acd4fc954cfcde026e69345217e036"
   },
   "outputs": [
    {
     "name": "stderr",
     "output_type": "stream",
     "text": [
      "C:\\Users\\Anurag\\Anaconda3\\lib\\site-packages\\sklearn\\svm\\base.py:196: FutureWarning: The default value of gamma will change from 'auto' to 'scale' in version 0.22 to account better for unscaled features. Set gamma explicitly to 'auto' or 'scale' to avoid this warning.\n",
      "  \"avoid this warning.\", FutureWarning)\n"
     ]
    },
    {
     "name": "stdout",
     "output_type": "stream",
     "text": [
      "accuracy train: 92.61\n",
      "accuracy test: 87.6\n",
      "              precision    recall  f1-score   support\n",
      "\n",
      "           0       0.95      0.90      0.93       862\n",
      "           1       0.54      0.72      0.61       138\n",
      "\n",
      "   micro avg       0.88      0.88      0.88      1000\n",
      "   macro avg       0.75      0.81      0.77      1000\n",
      "weighted avg       0.90      0.88      0.88      1000\n",
      "\n"
     ]
    },
    {
     "data": {
      "image/png": "[encoded data removed]",
      "text/plain": [
       "<Figure size 432x288 with 2 Axes>"
      ]
     },
     "metadata": {},
     "output_type": "display_data"
    }
   ],
   "source": [
    "# Train: SVM\n",
    "svm = SVC(kernel='poly', probability=True)\n",
    "prdict_date(svm,X_train_res,y_train_res,X_test,y_test)\n",
    "\n",
    "print(classification_report(y_test, svm.predict(X_test)))\n",
    "conf(svm,X_test, y_test)"
   ]
  },
  {
   "cell_type": "markdown",
   "metadata": {
    "_uuid": "ca83417f75acc0128411e32cb56bc1e270939521"
   },
   "source": [
    "### K Neighbors Classifier\n"
   ]
  },
  {
   "cell_type": "code",
   "execution_count": 30,
   "metadata": {
    "_uuid": "c2432dc4b4d63b217fb37cf3547140e5f98c4ae0"
   },
   "outputs": [
    {
     "name": "stdout",
     "output_type": "stream",
     "text": [
      "The optimal number of neighbors is 2 with 87.5%\n"
     ]
    },
    {
     "data": {
      "image/png": "[encoded data removed]",
      "text/plain": [
       "<Figure size 432x288 with 1 Axes>"
      ]
     },
     "metadata": {},
     "output_type": "display_data"
    }
   ],
   "source": [
    "#we will try to find witch K is the best on our data\n",
    "# first, we will look which give us the best predictions on the train:\n",
    "from sklearn import model_selection\n",
    "\n",
    "#Neighbors\n",
    "neighbors = [x for x in list(range(1,50)) if x % 2 == 0]\n",
    "\n",
    "#Create empty list that will hold cv scores\n",
    "cv_scores = []\n",
    "\n",
    "#Perform 10-fold cross validation on training set for odd values of k:\n",
    "seed=0\n",
    "for k in neighbors:\n",
    "    k_value = k+1\n",
    "    knn = KNeighborsClassifier(n_neighbors = k_value, weights='uniform', p=2, metric='euclidean')\n",
    "    kfold = model_selection.KFold(n_splits=10, random_state=seed)\n",
    "    scores = model_selection.cross_val_score(knn, X_train, y_train, cv=kfold, scoring='accuracy')\n",
    "    cv_scores.append(scores.mean()*100)\n",
    "    #print(\"k=%d %0.2f (+/- %0.2f)\" % (k_value, scores.mean()*100, scores.std()*100))\n",
    "\n",
    "optimal_k = neighbors[cv_scores.index(max(cv_scores))]\n",
    "print(( \"The optimal number of neighbors is %d with %0.1f%%\" % (optimal_k, cv_scores[optimal_k])))\n",
    "\n",
    "plt.plot(neighbors, cv_scores)\n",
    "plt.xlabel('Number of Neighbors K')\n",
    "plt.ylabel('Train Accuracy')\n",
    "plt.show()"
   ]
  },
  {
   "cell_type": "code",
   "execution_count": 31,
   "metadata": {
    "_uuid": "75647fae901c9e0c723c70fb6d7041a864cf1437"
   },
   "outputs": [
    {
     "name": "stdout",
     "output_type": "stream",
     "text": [
      "The optimal number of neighbors is 4 with 86.7%\n"
     ]
    },
    {
     "data": {
      "image/png": "[encoded data removed]",
      "text/plain": [
       "<Figure size 432x288 with 1 Axes>"
      ]
     },
     "metadata": {},
     "output_type": "display_data"
    }
   ],
   "source": [
    "# then on the test:\n",
    "cv_preds = []\n",
    "\n",
    "#Perform 10-fold cross validation on testing set for odd values of k\n",
    "seed=0\n",
    "for k in neighbors:\n",
    "    k_value = k+1\n",
    "    knn = KNeighborsClassifier(n_neighbors = k_value, weights='uniform', p=2, metric='euclidean')\n",
    "    kfold = model_selection.KFold(n_splits=10, random_state=seed)\n",
    "    preds = model_selection.cross_val_predict(knn, X_test, y_test, cv=kfold)\n",
    "    cv_preds.append(metrics.accuracy_score(y_test, preds)*100)\n",
    "    #print(\"k=%d %0.2f\" % (k_value, 100*metrics.accuracy_score(test_y, preds)))\n",
    "\n",
    "optimal_k = neighbors[cv_preds.index(max(cv_preds))]\n",
    "print(\"The optimal number of neighbors is %d with %0.1f%%\" % (optimal_k, cv_preds[optimal_k]))\n",
    "\n",
    "plt.plot(neighbors, cv_preds)\n",
    "plt.xlabel('Number of Neighbors K')\n",
    "plt.ylabel('Test Accuracy')\n",
    "plt.show()"
   ]
  },
  {
   "cell_type": "code",
   "execution_count": 32,
   "metadata": {
    "_uuid": "22ff7b2f41530828eb034c43836fb3b55bf4aaf6"
   },
   "outputs": [
    {
     "name": "stdout",
     "output_type": "stream",
     "text": [
      "accuracy train: 95.95\n",
      "accuracy test: 81.8\n",
      "              precision    recall  f1-score   support\n",
      "\n",
      "           0       0.94      0.84      0.89       862\n",
      "           1       0.41      0.69      0.51       138\n",
      "\n",
      "   micro avg       0.82      0.82      0.82      1000\n",
      "   macro avg       0.67      0.76      0.70      1000\n",
      "weighted avg       0.87      0.82      0.84      1000\n",
      "\n"
     ]
    },
    {
     "data": {
      "image/png": "[encoded data removed]",
      "text/plain": [
       "<Figure size 432x288 with 2 Axes>"
      ]
     },
     "metadata": {},
     "output_type": "display_data"
    }
   ],
   "source": [
    "# KNN\n",
    "knn = KNeighborsClassifier(n_neighbors = 4)\n",
    "prdict_date(knn,X_train_res,y_train_res,X_test,y_test)\n",
    "\n",
    "print(classification_report(y_test, knn.predict(X_test)))\n",
    "conf(knn,X_test, y_test)"
   ]
  },
  {
   "cell_type": "markdown",
   "metadata": {
    "_uuid": "b10f73f173e16b37da26f2781544bc83f0d070b1"
   },
   "source": [
    "### Logistic Regression\n"
   ]
  },
  {
   "cell_type": "code",
   "execution_count": 33,
   "metadata": {
    "_uuid": "669728d5fc75bcb17375c3089a819abb9c9bad7e"
   },
   "outputs": [
    {
     "name": "stderr",
     "output_type": "stream",
     "text": [
      "C:\\Users\\Anurag\\Anaconda3\\lib\\site-packages\\sklearn\\linear_model\\logistic.py:433: FutureWarning: Default solver will be changed to 'lbfgs' in 0.22. Specify a solver to silence this warning.\n",
      "  FutureWarning)\n"
     ]
    },
    {
     "name": "stdout",
     "output_type": "stream",
     "text": [
      "accuracy train: 85.81\n",
      "accuracy test: 86.6\n",
      "              precision    recall  f1-score   support\n",
      "\n",
      "           0       0.88      0.97      0.93       862\n",
      "           1       0.54      0.19      0.28       138\n",
      "\n",
      "   micro avg       0.87      0.87      0.87      1000\n",
      "   macro avg       0.71      0.58      0.60      1000\n",
      "weighted avg       0.84      0.87      0.84      1000\n",
      "\n"
     ]
    },
    {
     "data": {
      "image/png": "[encoded data removed]",
      "text/plain": [
       "<Figure size 432x288 with 2 Axes>"
      ]
     },
     "metadata": {},
     "output_type": "display_data"
    }
   ],
   "source": [
    "# Train: Logistic Regression\n",
    "logr = LogisticRegression()\n",
    "prdict_date(logr,X_train,y_train,X_test,y_test)\n",
    "\n",
    "print(classification_report(y_test, logr.predict(X_test)))\n",
    "conf(logr,X_test, y_test)"
   ]
  },
  {
   "cell_type": "markdown",
   "metadata": {
    "_uuid": "b0977c0378165e913dc6e21cb6e632016c3c9b7a"
   },
   "source": [
    "### compere results"
   ]
  },
  {
   "cell_type": "code",
   "execution_count": 34,
   "metadata": {
    "_uuid": "0a6c89a424fde09c26e9b7c51a314282428ccebc"
   },
   "outputs": [
    {
     "data": {
      "text/html": [
       "<div>\n",
       "<style scoped>\n",
       "    .dataframe tbody tr th:only-of-type {\n",
       "        vertical-align: middle;\n",
       "    }\n",
       "\n",
       "    .dataframe tbody tr th {\n",
       "        vertical-align: top;\n",
       "    }\n",
       "\n",
       "    .dataframe thead th {\n",
       "        text-align: right;\n",
       "    }\n",
       "</style>\n",
       "<table border=\"1\" class=\"dataframe\">\n",
       "  <thead>\n",
       "    <tr style=\"text-align: right;\">\n",
       "      <th></th>\n",
       "      <th>algo_name</th>\n",
       "      <th>acc_test</th>\n",
       "      <th>acc_train</th>\n",
       "    </tr>\n",
       "  </thead>\n",
       "  <tbody>\n",
       "    <tr>\n",
       "      <th>1</th>\n",
       "      <td>GradientBoostingClassifier</td>\n",
       "      <td>95.1</td>\n",
       "      <td>100.00</td>\n",
       "    </tr>\n",
       "    <tr>\n",
       "      <th>0</th>\n",
       "      <td>RandomForestClassifier</td>\n",
       "      <td>92.5</td>\n",
       "      <td>100.00</td>\n",
       "    </tr>\n",
       "    <tr>\n",
       "      <th>2</th>\n",
       "      <td>SVC</td>\n",
       "      <td>87.6</td>\n",
       "      <td>92.61</td>\n",
       "    </tr>\n",
       "    <tr>\n",
       "      <th>4</th>\n",
       "      <td>LogisticRegression</td>\n",
       "      <td>86.6</td>\n",
       "      <td>85.81</td>\n",
       "    </tr>\n",
       "    <tr>\n",
       "      <th>3</th>\n",
       "      <td>KNeighborsClassifier</td>\n",
       "      <td>81.8</td>\n",
       "      <td>95.95</td>\n",
       "    </tr>\n",
       "  </tbody>\n",
       "</table>\n",
       "</div>"
      ],
      "text/plain": [
       "                    algo_name  acc_test  acc_train\n",
       "1  GradientBoostingClassifier      95.1     100.00\n",
       "0      RandomForestClassifier      92.5     100.00\n",
       "2                         SVC      87.6      92.61\n",
       "4          LogisticRegression      86.6      85.81\n",
       "3        KNeighborsClassifier      81.8      95.95"
      ]
     },
     "execution_count": 34,
     "metadata": {},
     "output_type": "execute_result"
    }
   ],
   "source": [
    "df_test =pd.DataFrame(list(results_test.items()),\n",
    "                      columns=['algo_name','acc_test'])\n",
    "df_train =pd.DataFrame(list(results_train.items()),\n",
    "                      columns=['algo_name','acc_train'])\n",
    "df_results = df_test.join(df_train.set_index('algo_name'), on='algo_name')\n",
    "df_results.sort_values('acc_test',ascending=False)\n"
   ]
  },
  {
   "cell_type": "code",
   "execution_count": 35,
   "metadata": {
    "_uuid": "262ae59f7e15bfdec21615f86e27954902eed149"
   },
   "outputs": [
    {
     "data": {
      "image/png": "[encoded data removed]",
      "text/plain": [
       "<Figure size 720x504 with 1 Axes>"
      ]
     },
     "metadata": {
      "needs_background": "light"
     },
     "output_type": "display_data"
    }
   ],
   "source": [
    "import matplotlib.pyplot as plt\n",
    "plt.style.use('ggplot')\n",
    "%matplotlib inline\n",
    "\n",
    "# set jupyter's max row display\n",
    "pd.set_option('display.max_row', 100)\n",
    "\n",
    "# set jupyter's max column width to 50\n",
    "pd.set_option('display.max_columns', 50)\n",
    "\n",
    "# Load the dataset\n",
    "ax = df_results[['acc_test', 'acc_train']].plot(kind='barh',\n",
    "              figsize=(10,7), color=['dodgerblue', 'slategray'], fontsize=13);\n",
    "ax.set_alpha(0.8)\n",
    "ax.set_title(\"The Best ALGO is?\",\n",
    "fontsize=18)\n",
    "ax.set_xlabel(\"ACC\", fontsize=18)\n",
    "ax.set_ylabel(\"Algo Names\", fontsize=18)\n",
    "ax.set_xticks([0,10,20,30,40,50,60,70,80,90,100,110])\n",
    "ax.set_yticklabels(df_results.iloc[:,0].values.tolist())\n",
    "\n",
    "# set individual bar lables using above list\n",
    "for i in ax.patches:\n",
    "    # get_width pulls left or right; get_y pushes up or down\n",
    "    ax.text(i.get_width()+4, i.get_y()+.1, \\\n",
    "            str(round((i.get_width()), 2)), fontsize=11, color='dimgrey')\n",
    "\n",
    "# invert for largest on top \n",
    "ax.invert_yaxis()"
   ]
  },
  {
   "cell_type": "code",
   "execution_count": 36,
   "metadata": {
    "_uuid": "77dc1afcc8e24ddf29493db966761ba64db99237"
   },
   "outputs": [
    {
     "data": {
      "text/plain": [
       "([<matplotlib.axis.YTick at 0x1358e5ff358>,\n",
       "  <matplotlib.axis.YTick at 0x1358a400a20>,\n",
       "  <matplotlib.axis.YTick at 0x1358e5f89b0>,\n",
       "  <matplotlib.axis.YTick at 0x1358e635940>,\n",
       "  <matplotlib.axis.YTick at 0x1358e635dd8>,\n",
       "  <matplotlib.axis.YTick at 0x1358e63e2e8>,\n",
       "  <matplotlib.axis.YTick at 0x1358e63e7f0>,\n",
       "  <matplotlib.axis.YTick at 0x1358e63ecf8>,\n",
       "  <matplotlib.axis.YTick at 0x1358e646240>,\n",
       "  <matplotlib.axis.YTick at 0x1358e63e780>,\n",
       "  <matplotlib.axis.YTick at 0x1358e6356d8>,\n",
       "  <matplotlib.axis.YTick at 0x1358e646048>,\n",
       "  <matplotlib.axis.YTick at 0x1358e646e80>,\n",
       "  <matplotlib.axis.YTick at 0x1358e64f3c8>,\n",
       "  <matplotlib.axis.YTick at 0x1358e64f8d0>],\n",
       " <a list of 15 Text yticklabel objects>)"
      ]
     },
     "execution_count": 36,
     "metadata": {},
     "output_type": "execute_result"
    },
    {
     "data": {
      "image/png": "[encoded data removed]",
      "text/plain": [
       "<Figure size 432x288 with 1 Axes>"
      ]
     },
     "metadata": {
      "needs_background": "light"
     },
     "output_type": "display_data"
    }
   ],
   "source": [
    "feature_importance = gbc.feature_importances_\n",
    "feat_importances = pd.Series(gbc.feature_importances_, index=df.columns[:-1])\n",
    "feat_importances = feat_importances.nlargest(15)\n",
    "\n",
    "feature = df.columns.values.tolist()[0:-1]\n",
    "importance = sorted(gbc.feature_importances_.tolist())\n",
    "\n",
    "\n",
    "x_pos = [i for i, _ in enumerate(feature)]\n",
    "# \n",
    "plt.barh(x_pos, importance , color='dodgerblue')\n",
    "plt.ylabel(\"feature\")\n",
    "plt.xlabel(\"importance\")\n",
    "plt.title(\"feature_importances\")\n",
    "\n",
    "plt.yticks(x_pos, feature)"
   ]
  },
  {
   "cell_type": "code",
   "execution_count": 37,
   "metadata": {
    "_uuid": "4e2227dc22f5044fc6686627a09baaccb683f139"
   },
   "outputs": [
    {
     "name": "stdout",
     "output_type": "stream",
     "text": [
      "accuracy train: 100.0\n",
      "accuracy test: 95.4\n",
      "              precision    recall  f1-score   support\n",
      "\n",
      "           0       0.97      0.98      0.97       862\n",
      "           1       0.86      0.80      0.83       138\n",
      "\n",
      "   micro avg       0.95      0.95      0.95      1000\n",
      "   macro avg       0.91      0.89      0.90      1000\n",
      "weighted avg       0.95      0.95      0.95      1000\n",
      "\n"
     ]
    },
    {
     "data": {
      "image/png": "[encoded data removed]",
      "text/plain": [
       "<Figure size 432x288 with 2 Axes>"
      ]
     },
     "metadata": {
      "needs_background": "light"
     },
     "output_type": "display_data"
    }
   ],
   "source": [
    "#next, we can try and take only the best parameters and see how they do\n",
    "gbc = GradientBoostingClassifier(loss='deviance', learning_rate=0.2, n_estimators=200 , max_depth=6)\n",
    "prdict_date(gbc,X_train[:,3:],y_train,X_test[:,3:],y_test)\n",
    "print(classification_report(y_test, gbc.predict(X_test[:,3:])))\n",
    "conf(gbc,X_test[:,3:], y_test)"
   ]
  }
 ],
 "metadata": {
  "kernelspec": {
   "display_name": "Python 3",
   "language": "python",
   "name": "python3"
  },
  "language_info": {
   "codemirror_mode": {
    "name": "ipython",
    "version": 3
   },
   "file_extension": ".py",
   "mimetype": "text/x-python",
   "name": "python",
   "nbconvert_exporter": "python",
   "pygments_lexer": "ipython3",
   "version": "3.7.3"
  }
 },
 "nbformat": 4,
 "nbformat_minor": 1
}
